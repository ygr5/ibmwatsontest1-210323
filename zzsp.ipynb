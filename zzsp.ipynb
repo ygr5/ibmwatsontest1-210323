{
    "cells": [
        {
            "metadata": {
                "collapsed": true
            },
            "cell_type": "markdown",
            "source": "# asdasdf\nasdfasd"
        },
        {
            "metadata": {},
            "cell_type": "code",
            "source": "\nimport os, types\nimport pandas as pd\nfrom botocore.client import Config\nimport ibm_boto3\n\ndef __iter__(self): return 0\n\n# @hidden_cell\n# The following code accesses a file in your IBM Cloud Object Storage. It includes your credentials.\n# You might want to remove those credentials before you share the notebook.\n\nif os.environ.get('RUNTIME_ENV_LOCATION_TYPE') == 'external':\n    endpoint_73cfa99d8161482187b82d2a3a781aef = 'https://s3-api.us-geo.objectstorage.softlayer.net'\nelse:\n    endpoint_73cfa99d8161482187b82d2a3a781aef = 'https://s3-api.us-geo.objectstorage.service.networklayer.com'\n\nclient_73cfa99d8161482187b82d2a3a781aef = ibm_boto3.client(service_name='s3',\n    ibm_api_key_id='Uwhl8ymMlU3iffS74Um8I_ar_VvBkGFkWF7vgvm8k8X6',\n    ibm_auth_endpoint=\"https://iam.cloud.ibm.com/oidc/token\",\n    config=Config(signature_version='oauth'),\n    endpoint_url=endpoint_73cfa99d8161482187b82d2a3a781aef)\n\nbody = client_73cfa99d8161482187b82d2a3a781aef.get_object(Bucket='lwtesting1200818-donotdelete-pr-kjzsarxpg8s6wu',Key='sampleunit.csv')['Body']\n# add missing __iter__ method, so pandas accepts body as file-like object\nif not hasattr(body, \"__iter__\"): body.__iter__ = types.MethodType( __iter__, body )\n\ndf_data_1 = pd.read_csv(body)\ndf_data_1.head()\n",
            "execution_count": 1,
            "outputs": [
                {
                    "output_type": "stream",
                    "text": "Waiting for a Spark session to start...\nSpark Initialization Done! ApplicationId = app-20210323220742-0000\nKERNEL_ID = 7846cdcc-b30f-4e86-8fe4-4731499b3b4b\n",
                    "name": "stdout"
                },
                {
                    "output_type": "execute_result",
                    "execution_count": 1,
                    "data": {
                        "text/html": "<div>\n<style scoped>\n    .dataframe tbody tr th:only-of-type {\n        vertical-align: middle;\n    }\n\n    .dataframe tbody tr th {\n        vertical-align: top;\n    }\n\n    .dataframe thead th {\n        text-align: right;\n    }\n</style>\n<table border=\"1\" class=\"dataframe\">\n  <thead>\n    <tr style=\"text-align: right;\">\n      <th></th>\n      <th>Type</th>\n      <th>HW_Model</th>\n      <th>Serial</th>\n      <th>Tag</th>\n      <th>Rego</th>\n      <th>Last_Event</th>\n      <th>Last_Location</th>\n      <th>Unit_ID</th>\n      <th>VIN</th>\n      <th>Linked</th>\n      <th>A</th>\n      <th>S</th>\n      <th>C</th>\n      <th>Diag_Config</th>\n    </tr>\n  </thead>\n  <tbody>\n    <tr>\n      <th>0</th>\n      <td>Magneti</td>\n      <td>NaN</td>\n      <td>9CAN6V19N</td>\n      <td>NaN</td>\n      <td>NaN</td>\n      <td>10/10/2020 7:35:28 PM</td>\n      <td>NaN</td>\n      <td>1385102264</td>\n      <td>1FTYE1ZM2FKA00207</td>\n      <td>NaN</td>\n      <td>True</td>\n      <td>NaN</td>\n      <td>NaN</td>\n      <td>NaN</td>\n    </tr>\n    <tr>\n      <th>1</th>\n      <td>vCore</td>\n      <td>NaN</td>\n      <td>10:010030013289188</td>\n      <td>1146146</td>\n      <td>NaN</td>\n      <td>3/23/2021 8:22:19 PM</td>\n      <td>NaN</td>\n      <td>1238605249</td>\n      <td>1FTNE1EW2EDA98541</td>\n      <td>9/14/2019 1:06:10 AM</td>\n      <td>True</td>\n      <td>NaN</td>\n      <td>NaN</td>\n      <td>NaN</td>\n    </tr>\n    <tr>\n      <th>2</th>\n      <td>vG3</td>\n      <td>NaN</td>\n      <td>SIM_d3f8241c-037b-11e1-a86c-2bc31468140c</td>\n      <td>153192167</td>\n      <td>78651</td>\n      <td>3/23/2021 9:23:07 PM</td>\n      <td>NaN</td>\n      <td>169642954</td>\n      <td>NaN</td>\n      <td>NaN</td>\n      <td>True</td>\n      <td>NaN</td>\n      <td>NaN</td>\n      <td>NaN</td>\n    </tr>\n    <tr>\n      <th>3</th>\n      <td>Web</td>\n      <td>NaN</td>\n      <td>1376675962</td>\n      <td>156542</td>\n      <td>246zad</td>\n      <td>2/18/2020 5:42:35 PM</td>\n      <td>NaN</td>\n      <td>1376675962</td>\n      <td>Due</td>\n      <td>2/18/2020 5:42:35 PM</td>\n      <td>True</td>\n      <td>NaN</td>\n      <td>NaN</td>\n      <td>NaN</td>\n    </tr>\n    <tr>\n      <th>4</th>\n      <td>vG3</td>\n      <td>NaN</td>\n      <td>SIM_d3ec3904-037b-11e1-ac33-1bfb71cd7d71</td>\n      <td>160980309</td>\n      <td>NaN</td>\n      <td>3/23/2021 9:43:35 PM</td>\n      <td>NaN</td>\n      <td>169643478</td>\n      <td>NaN</td>\n      <td>NaN</td>\n      <td>True</td>\n      <td>NaN</td>\n      <td>NaN</td>\n      <td>NaN</td>\n    </tr>\n  </tbody>\n</table>\n</div>",
                        "text/plain": "      Type  HW_Model                                    Serial        Tag  \\\n0  Magneti       NaN                                 9CAN6V19N        NaN   \n1    vCore       NaN                        10:010030013289188    1146146   \n2      vG3       NaN  SIM_d3f8241c-037b-11e1-a86c-2bc31468140c  153192167   \n3      Web       NaN                                1376675962     156542   \n4      vG3       NaN  SIM_d3ec3904-037b-11e1-ac33-1bfb71cd7d71  160980309   \n\n     Rego             Last_Event  Last_Location     Unit_ID  \\\n0     NaN  10/10/2020 7:35:28 PM            NaN  1385102264   \n1     NaN   3/23/2021 8:22:19 PM            NaN  1238605249   \n2   78651   3/23/2021 9:23:07 PM            NaN   169642954   \n3  246zad   2/18/2020 5:42:35 PM            NaN  1376675962   \n4     NaN   3/23/2021 9:43:35 PM            NaN   169643478   \n\n                 VIN                Linked     A   S   C Diag_Config  \n0  1FTYE1ZM2FKA00207                   NaN  True NaN NaN         NaN  \n1  1FTNE1EW2EDA98541  9/14/2019 1:06:10 AM  True NaN NaN         NaN  \n2                NaN                   NaN  True NaN NaN         NaN  \n3                Due  2/18/2020 5:42:35 PM  True NaN NaN         NaN  \n4                NaN                   NaN  True NaN NaN         NaN  "
                    },
                    "metadata": {}
                }
            ]
        },
        {
            "metadata": {},
            "cell_type": "code",
            "source": "\nimport ibmos2spark, os\n# @hidden_cell\n\nif os.environ.get('RUNTIME_ENV_LOCATION_TYPE') == 'external':\n    endpoint_73cfa99d8161482187b82d2a3a781aef = 'https://s3-api.us-geo.objectstorage.softlayer.net'\nelse:\n    endpoint_73cfa99d8161482187b82d2a3a781aef = 'https://s3-api.us-geo.objectstorage.service.networklayer.com'\n\ncredentials = {\n    'endpoint': endpoint_73cfa99d8161482187b82d2a3a781aef,\n    'service_id': 'iam-ServiceId-2a98d6e0-7744-4d94-a2ab-12001d05d9ed',\n    'iam_service_endpoint': 'https://iam.cloud.ibm.com/oidc/token',\n    'api_key': 'Uwhl8ymMlU3iffS74Um8I_ar_VvBkGFkWF7vgvm8k8X6'\n}\n\nconfiguration_name = 'os_73cfa99d8161482187b82d2a3a781aef_configs'\ncos = ibmos2spark.CloudObjectStorage(sc, credentials, configuration_name, 'bluemix_cos')\n\nfrom pyspark.sql import SparkSession\nspark = SparkSession.builder.getOrCreate()\ndf_data_2 = spark.read\\\n  .format('org.apache.spark.sql.execution.datasources.csv.CSVFileFormat')\\\n  .option('header', 'true')\\\n  .load(cos.url('sampleunit.csv', 'lwtesting1200818-donotdelete-pr-kjzsarxpg8s6wu'))\ndf_data_2.take(5)\n",
            "execution_count": 2,
            "outputs": [
                {
                    "output_type": "execute_result",
                    "execution_count": 2,
                    "data": {
                        "text/plain": "[Row(Type='Magneti', HW_Model=None, Serial='9CAN6V19N', Tag=None, Rego=None, Last_Event='10/10/2020 7:35:28 PM', Last_Location=None, Unit_ID='1385102264', VIN='1FTYE1ZM2FKA00207', Linked=None, A='True', S=None, C=None, Diag_Config=None),\n Row(Type='vCore', HW_Model=None, Serial='10:010030013289188', Tag='1146146', Rego=None, Last_Event='3/23/2021 8:22:19 PM', Last_Location=None, Unit_ID='1238605249', VIN='1FTNE1EW2EDA98541', Linked='9/14/2019 1:06:10 AM', A='True', S=None, C=None, Diag_Config=None),\n Row(Type='vG3', HW_Model=None, Serial='SIM_d3f8241c-037b-11e1-a86c-2bc31468140c', Tag='153192167', Rego='78651', Last_Event='3/23/2021 9:23:07 PM', Last_Location=None, Unit_ID='169642954', VIN=None, Linked=None, A='True', S=None, C=None, Diag_Config=None),\n Row(Type='Web', HW_Model=None, Serial='1376675962', Tag='156542', Rego='246zad', Last_Event='2/18/2020 5:42:35 PM', Last_Location=None, Unit_ID='1376675962', VIN='Due', Linked='2/18/2020 5:42:35 PM', A='True', S=None, C=None, Diag_Config=None),\n Row(Type='vG3', HW_Model=None, Serial='SIM_d3ec3904-037b-11e1-ac33-1bfb71cd7d71', Tag='160980309', Rego=None, Last_Event='3/23/2021 9:43:35 PM', Last_Location=None, Unit_ID='169643478', VIN=None, Linked=None, A='True', S=None, C=None, Diag_Config=None)]"
                    },
                    "metadata": {}
                }
            ]
        },
        {
            "metadata": {},
            "cell_type": "code",
            "source": "",
            "execution_count": null,
            "outputs": []
        }
    ],
    "metadata": {
        "kernelspec": {
            "name": "python37",
            "display_name": "Python 3.7 with Spark",
            "language": "python3"
        },
        "language_info": {
            "mimetype": "text/x-python",
            "nbconvert_exporter": "python",
            "name": "python",
            "pygments_lexer": "ipython3",
            "version": "3.7.9",
            "file_extension": ".py",
            "codemirror_mode": {
                "version": 3,
                "name": "ipython"
            }
        }
    },
    "nbformat": 4,
    "nbformat_minor": 1
}